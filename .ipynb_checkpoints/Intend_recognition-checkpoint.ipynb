{
 "cells": [
  {
   "cell_type": "code",
   "execution_count": 1,
   "id": "linear-juvenile",
   "metadata": {},
   "outputs": [],
   "source": [
    "import numpy as np\n",
    "import matplotlib.pyplot as plt\n",
    "import random\n",
    "import json\n",
    "import pickle\n",
    "\n",
    "from sklearn.feature_extraction.text import TfidfVectorizer\n",
    "from sklearn.naive_bayes import MultinomialNB\n",
    "from sklearn.pipeline import make_pipeline\n",
    "from sklearn.metrics import classification_report\n",
    "from sklearn.model_selection import train_test_split\n",
    "from sklearn.preprocessing import OneHotEncoder,LabelEncoder\n",
    "\n",
    "from tensorflow.python.keras.models import Sequential\n",
    "from tensorflow.python.keras.models import load_model\n",
    "from tensorflow.python.keras.layers import Dense, Input, Dropout, LSTM, Activation, Bidirectional,Embedding\n",
    "from tensorflow.python.keras.preprocessing.text import Tokenizer\n",
    "from tensorflow.python.keras.preprocessing.sequence import pad_sequences"
   ]
  },
  {
   "cell_type": "code",
   "execution_count": 2,
   "id": "developing-worthy",
   "metadata": {},
   "outputs": [],
   "source": [
    "with open(\"intents.json\") as file:\n",
    "    pattern = json.load(file)\n",
    "\n",
    "responses = pattern['responses']\n",
    "patterns = np.array(pattern['intents'])\n",
    "patterns = patterns.T\n",
    "\n",
    "data = patterns[0]\n",
    "target = patterns[1]"
   ]
  },
  {
   "cell_type": "code",
   "execution_count": 3,
   "id": "cordless-albania",
   "metadata": {},
   "outputs": [],
   "source": [
    "train_txt,test_txt,train_label,test_labels = train_test_split(data,target,test_size = 0.3)\n",
    "val_txt, test_txt, val_label, test_labels = train_test_split(test_txt, test_labels, test_size=0.3, shuffle=True)"
   ]
  },
  {
   "cell_type": "code",
   "execution_count": 4,
   "id": "attached-merchant",
   "metadata": {},
   "outputs": [],
   "source": [
    "max_num_words = 40000\n",
    "\n",
    "classes = np.unique(target)\n",
    "\n",
    "tokenizer = Tokenizer(num_words=max_num_words)\n",
    "tokenizer.fit_on_texts(train_txt)\n",
    "word_index = tokenizer.word_index"
   ]
  },
  {
   "cell_type": "code",
   "execution_count": 5,
   "id": "timely-wrist",
   "metadata": {},
   "outputs": [
    {
     "name": "stdout",
     "output_type": "stream",
     "text": [
      "[\"yeah, that's right\" 'what subjects are you experienced in'\n",
      " 'false for sure' ... 'who is the director of the film' 'that is untrue'\n",
      " 'how are you this day']\n"
     ]
    }
   ],
   "source": [
    "ls=[]\n",
    "for c in train_txt:\n",
    "    ls.append(len(c.split()))\n",
    "maxLen=int(np.percentile(ls, 98))\n",
    "print(train_txt)\n",
    "train_sequences = tokenizer.texts_to_sequences(train_txt)\n",
    "train_sequences = pad_sequences(train_sequences, maxlen=maxLen, padding='post')\n",
    "val_sequences = tokenizer.texts_to_sequences(val_txt)\n",
    "val_sequences = pad_sequences(val_sequences, maxlen=maxLen, padding='post')\n",
    "test_sequences = tokenizer.texts_to_sequences(test_txt)\n",
    "test_sequences = pad_sequences(test_sequences, maxlen=maxLen, padding='post')"
   ]
  },
  {
   "cell_type": "code",
   "execution_count": 6,
   "id": "behind-partner",
   "metadata": {},
   "outputs": [],
   "source": [
    "label_encoder = LabelEncoder()\n",
    "\n",
    "integer_encoded = label_encoder.fit_transform(classes)\n",
    "\n",
    "onehot_encoder = OneHotEncoder(sparse=False)\n",
    "integer_encoded = integer_encoded.reshape(len(integer_encoded), 1)\n",
    "onehot_encoder.fit(integer_encoded)\n",
    "\n",
    "train_label_encoded = label_encoder.transform(train_label)\n",
    "train_label_encoded = train_label_encoded.reshape(len(train_label_encoded), 1)\n",
    "train_label = onehot_encoder.transform(train_label_encoded)\n",
    "val_label_encoded = label_encoder.transform(val_label)\n",
    "val_label_encoded = val_label_encoded.reshape(len(val_label_encoded), 1)\n",
    "val_label = onehot_encoder.transform(val_label_encoded)\n",
    "test_labels_encoded = label_encoder.transform(test_labels)\n",
    "test_labels_encoded = test_labels_encoded.reshape(len(test_labels_encoded), 1)\n",
    "test_labels = onehot_encoder.transform(test_labels_encoded)"
   ]
  },
  {
   "cell_type": "code",
   "execution_count": 7,
   "id": "destroyed-processing",
   "metadata": {},
   "outputs": [],
   "source": [
    "embeddings_index={}\n",
    "with open('glove.6B.100d.txt', encoding='utf8') as f:\n",
    "    for line in f:\n",
    "        values = line.split()\n",
    "        word = values[0]\n",
    "        coefs = np.asarray(values[1:], dtype='float32')\n",
    "        embeddings_index[word] = coefs"
   ]
  },
  {
   "cell_type": "code",
   "execution_count": 8,
   "id": "stupid-bruce",
   "metadata": {},
   "outputs": [
    {
     "name": "stderr",
     "output_type": "stream",
     "text": [
      "c:\\users\\berka\\appdata\\local\\programs\\python\\python37\\lib\\site-packages\\IPython\\core\\interactiveshell.py:3357: FutureWarning: arrays to stack must be passed as a \"sequence\" type such as list or tuple. Support for non-sequence iterables such as generators is deprecated as of NumPy 1.16 and will raise an error in the future.\n",
      "  if (await self.run_code(code, result,  async_=asy)):\n"
     ]
    }
   ],
   "source": [
    "all_embs = np.stack(embeddings_index.values())\n",
    "emb_mean,emb_std = all_embs.mean(), all_embs.std()\n",
    "num_words = min(max_num_words, len(word_index))+1\n",
    "embedding_dim=len(embeddings_index['the'])\n",
    "embedding_matrix = np.random.normal(emb_mean, emb_std, (num_words, embedding_dim))\n",
    "for word, i in word_index.items():\n",
    "    if i >= max_num_words:\n",
    "        break\n",
    "    embedding_vector = embeddings_index.get(word)\n",
    "    if embedding_vector is not None:\n",
    "        embedding_matrix[i] = embedding_vector"
   ]
  },
  {
   "cell_type": "code",
   "execution_count": 26,
   "id": "extended-handle",
   "metadata": {},
   "outputs": [],
   "source": [
    "model = Sequential()\n",
    "\n",
    "model.add(Embedding(num_words, 100, trainable=False,input_length=train_sequences.shape[1], weights=[embedding_matrix]))\n",
    "model.add(Bidirectional(LSTM(256, return_sequences=True, recurrent_dropout=0.1, dropout=0.1), 'concat'))\n",
    "model.add(Dropout(0.25))\n",
    "model.add(LSTM(512, return_sequences=False, recurrent_dropout=0.1, dropout=0.1))\n",
    "model.add(Dropout(0.25))\n",
    "model.add(Dense(256, activation='relu'))\n",
    "model.add(Dense(128, activation='relu'))\n",
    "model.add(Dropout(0.2))\n",
    "model.add(Dense(classes.shape[0], activation='softmax'))"
   ]
  },
  {
   "cell_type": "code",
   "execution_count": 27,
   "id": "listed-street",
   "metadata": {},
   "outputs": [
    {
     "name": "stdout",
     "output_type": "stream",
     "text": [
      "Epoch 1/15\n",
      "24/24 [==============================] - 30s 855ms/step - loss: 2.8363 - accuracy: 0.1006 - val_loss: 2.5584 - val_accuracy: 0.1600\n",
      "Epoch 2/15\n",
      "24/24 [==============================] - 19s 783ms/step - loss: 2.4248 - accuracy: 0.2186 - val_loss: 1.8437 - val_accuracy: 0.3178\n",
      "Epoch 3/15\n",
      "24/24 [==============================] - 19s 796ms/step - loss: 1.8201 - accuracy: 0.3428 - val_loss: 1.2852 - val_accuracy: 0.5422\n",
      "Epoch 4/15\n",
      "24/24 [==============================] - 20s 826ms/step - loss: 1.3273 - accuracy: 0.5252 - val_loss: 1.0407 - val_accuracy: 0.6333\n",
      "Epoch 5/15\n",
      "24/24 [==============================] - 19s 808ms/step - loss: 1.0310 - accuracy: 0.6327 - val_loss: 0.8867 - val_accuracy: 0.6689\n",
      "Epoch 6/15\n",
      "24/24 [==============================] - 19s 791ms/step - loss: 0.8510 - accuracy: 0.6949 - val_loss: 0.9075 - val_accuracy: 0.6733\n",
      "Epoch 7/15\n",
      "24/24 [==============================] - 20s 833ms/step - loss: 0.7482 - accuracy: 0.7435 - val_loss: 0.7952 - val_accuracy: 0.7533\n",
      "Epoch 8/15\n",
      "24/24 [==============================] - 19s 798ms/step - loss: 0.6578 - accuracy: 0.7809 - val_loss: 0.7531 - val_accuracy: 0.7489\n",
      "Epoch 9/15\n",
      "24/24 [==============================] - 19s 794ms/step - loss: 0.5559 - accuracy: 0.8097 - val_loss: 0.7613 - val_accuracy: 0.7533\n",
      "Epoch 10/15\n",
      "24/24 [==============================] - 19s 791ms/step - loss: 0.4934 - accuracy: 0.8362 - val_loss: 0.5783 - val_accuracy: 0.8111\n",
      "Epoch 11/15\n",
      "24/24 [==============================] - 21s 887ms/step - loss: 0.4111 - accuracy: 0.8660 - val_loss: 0.6369 - val_accuracy: 0.8067\n",
      "Epoch 12/15\n",
      "24/24 [==============================] - 22s 918ms/step - loss: 0.3422 - accuracy: 0.8884 - val_loss: 0.6283 - val_accuracy: 0.7978\n",
      "Epoch 13/15\n",
      "24/24 [==============================] - 23s 947ms/step - loss: 0.3472 - accuracy: 0.8873 - val_loss: 0.5405 - val_accuracy: 0.8467\n",
      "Epoch 14/15\n",
      "24/24 [==============================] - 26s 1s/step - loss: 0.3253 - accuracy: 0.9051 - val_loss: 0.4988 - val_accuracy: 0.8578\n",
      "Epoch 15/15\n",
      "24/24 [==============================] - 25s 1s/step - loss: 0.2385 - accuracy: 0.9161 - val_loss: 0.4960 - val_accuracy: 0.8578\n"
     ]
    }
   ],
   "source": [
    "model.compile(loss='categorical_crossentropy', optimizer='adam', metrics=['accuracy'])\n",
    "history = model.fit(train_sequences, train_label, epochs = 15,\n",
    "          batch_size = 64, shuffle=True,\n",
    "          validation_data=(val_sequences, val_label))"
   ]
  },
  {
   "cell_type": "code",
   "execution_count": 24,
   "id": "welcome-postcard",
   "metadata": {},
   "outputs": [
    {
     "data": {
      "image/png": "[encoded data removed]",
      "text/plain": [
       "<Figure size 432x288 with 1 Axes>"
      ]
     },
     "metadata": {
      "needs_background": "light"
     },
     "output_type": "display_data"
    }
   ],
   "source": [
    "plt.plot(history.history['accuracy'])\n",
    "plt.plot(history.history['val_accuracy'])\n",
    "plt.title('Model Accuracy')\n",
    "plt.ylabel('Accuracy')\n",
    "plt.xlabel('Epoch')\n",
    "plt.legend(['Train', 'Validation'], loc='upper left')\n",
    "plt.show()"
   ]
  },
  {
   "cell_type": "code",
   "execution_count": 25,
   "id": "political-premium",
   "metadata": {},
   "outputs": [
    {
     "data": {
      "image/png": "[encoded data removed]",
      "text/plain": [
       "<Figure size 432x288 with 1 Axes>"
      ]
     },
     "metadata": {
      "needs_background": "light"
     },
     "output_type": "display_data"
    }
   ],
   "source": [
    "plt.plot(history.history['loss'])\n",
    "plt.plot(history.history['val_loss'])\n",
    "plt.title('Model Loss')\n",
    "plt.ylabel('Loss')\n",
    "plt.xlabel('Epoch')\n",
    "plt.legend(['Train', 'Validation'], loc='upper left')\n",
    "plt.show()"
   ]
  },
  {
   "cell_type": "code",
   "execution_count": 13,
   "id": "cordless-harris",
   "metadata": {},
   "outputs": [],
   "source": [
    "model.save('models/intents.h5')\n",
    "\n",
    "with open('classes.pkl','wb') as file:\n",
    "    pickle.dump(classes,file)\n",
    "\n",
    "with open('tokenizer.pkl','wb') as file:\n",
    "    pickle.dump(tokenizer,file)\n",
    "\n",
    "with open('label_encoder.pkl','wb') as file:\n",
    "    pickle.dump(label_encoder,file)"
   ]
  },
  {
   "cell_type": "markdown",
   "id": "raised-bottom",
   "metadata": {},
   "source": [
    "class IntentClassifier:\n",
    "    def __init__(self,classes,model,tokenizer,label_encoder):\n",
    "        self.classes = classes\n",
    "        self.classifier = model\n",
    "        self.tokenizer = tokenizer\n",
    "        self.label_encoder = label_encoder\n",
    "\n",
    "    def get_intent(self,text):\n",
    "        self.text = [text]\n",
    "        self.test_keras = self.tokenizer.texts_to_sequences(self.text)\n",
    "        self.test_keras_sequence = pad_sequences(self.test_keras, maxlen=16, padding='post')\n",
    "        self.pred = self.classifier.predict(self.test_keras_sequence)\n",
    "        return self.label_encoder.inverse_transform(np.argmax(self.pred,1))[0]"
   ]
  },
  {
   "cell_type": "code",
   "execution_count": 14,
   "id": "packed-membership",
   "metadata": {},
   "outputs": [],
   "source": [
    "model = load_model('models/intents.h5')\n",
    "\n",
    "with open('classes.pkl','rb') as file:\n",
    "    classes = pickle.load(file)\n",
    "\n",
    "with open('tokenizer.pkl','rb') as file:\n",
    "    tokenizer = pickle.load(file)\n",
    "\n",
    "with open('label_encoder.pkl','rb') as file:\n",
    "    label_encoder = pickle.load(file)"
   ]
  },
  {
   "cell_type": "code",
   "execution_count": 15,
   "id": "related-heritage",
   "metadata": {},
   "outputs": [],
   "source": [
    "def get_intent(text):\n",
    "    text = tokenizer.texts_to_sequences(text)\n",
    "    text = pad_sequences(text, maxlen=16, padding='post')\n",
    "    pred = model.predict(text)\n",
    "    print(np.max(pred))\n",
    "    print(pred)\n",
    "    if np.max(pred) < 0.5:\n",
    "        return 'none'\n",
    "    return label_encoder.inverse_transform(np.argmax(pred,1))[0]"
   ]
  },
  {
   "cell_type": "code",
   "execution_count": 16,
   "id": "smoking-discussion",
   "metadata": {},
   "outputs": [
    {
     "name": "stdout",
     "output_type": "stream",
     "text": [
      "WARNING:tensorflow:Model was constructed with shape (None, 11) for input KerasTensor(type_spec=TensorSpec(shape=(None, 11), dtype=tf.float32, name='embedding_input'), name='embedding_input', description=\"created by layer 'embedding_input'\"), but it was called on an input with incompatible shape (None, 16).\n",
      "0.9953342\n",
      "[[2.1453860e-05 2.4206683e-04 1.0699635e-05 2.6893597e-03 1.3146425e-05\n",
      "  2.5588475e-04 2.1292722e-06 9.9533421e-01 2.4553026e-05 6.7370542e-04\n",
      "  5.1564956e-07 2.9546583e-05 2.7280883e-04 5.8956972e-05 2.8078475e-06\n",
      "  1.7527270e-07 1.0165558e-06 2.3561859e-04 1.3132284e-04]]\n"
     ]
    },
    {
     "data": {
      "text/plain": [
       "'Plot is {}'"
      ]
     },
     "execution_count": 16,
     "metadata": {},
     "output_type": "execute_result"
    }
   ],
   "source": [
    "x = get_intent([\"what is the topic\"])\n",
    "\n",
    "response = responses[x]\n",
    "response = np.random.choice(response)\n",
    "response"
   ]
  },
  {
   "cell_type": "code",
   "execution_count": null,
   "id": "orange-finish",
   "metadata": {},
   "outputs": [],
   "source": []
  },
  {
   "cell_type": "code",
   "execution_count": null,
   "id": "flying-andorra",
   "metadata": {},
   "outputs": [],
   "source": []
  }
 ],
 "metadata": {
  "kernelspec": {
   "display_name": "Python 3",
   "language": "python",
   "name": "python3"
  },
  "language_info": {
   "codemirror_mode": {
    "name": "ipython",
    "version": 3
   },
   "file_extension": ".py",
   "mimetype": "text/x-python",
   "name": "python",
   "nbconvert_exporter": "python",
   "pygments_lexer": "ipython3",
   "version": "3.7.9"
  }
 },
 "nbformat": 4,
 "nbformat_minor": 5
}
