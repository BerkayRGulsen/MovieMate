{
 "cells": [
  {
   "cell_type": "code",
   "execution_count": 6,
   "id": "collectible-toilet",
   "metadata": {},
   "outputs": [],
   "source": [
    "import pandas as pd\n",
    "import matplotlib.pyplot as plt\n",
    "import networkx as nx\n",
    "import glob\n",
    "import spacy\n",
    "import json\n",
    "import en_core_web_sm\n",
    "\n",
    "from tqdm.notebook import tqdm\n",
    "from spacy.matcher import Matcher\n",
    "from spacy.pipeline import EntityRuler\n",
    "from spacy.language import Language\n",
    "nlp = spacy.load('en_core_web_sm', exclude='ner')"
   ]
  },
  {
   "cell_type": "code",
   "execution_count": 7,
   "id": "individual-straight",
   "metadata": {},
   "outputs": [
    {
     "name": "stdout",
     "output_type": "stream",
     "text": [
      "\u001b[1m\n",
      "============================== Info about spaCy ==============================\u001b[0m\n",
      "\n",
      "spaCy version    3.0.5                         \n",
      "Location         c:\\users\\berka\\appdata\\local\\programs\\python\\python37\\lib\\site-packages\\spacy\n",
      "Platform         Windows-10-10.0.19041-SP0     \n",
      "Python version   3.7.9                         \n",
      "Pipelines        en_core_web_sm (3.0.0)        \n",
      "\n"
     ]
    },
    {
     "name": "stderr",
     "output_type": "stream",
     "text": [
      "2021-06-05 11:52:18.045204: W tensorflow/stream_executor/platform/default/dso_loader.cc:60] Could not load dynamic library 'cudart64_110.dll'; dlerror: cudart64_110.dll not found\n",
      "2021-06-05 11:52:18.045321: I tensorflow/stream_executor/cuda/cudart_stub.cc:29] Ignore above cudart dlerror if you do not have a GPU set up on your machine.\n"
     ]
    }
   ],
   "source": [
    "!spacy info"
   ]
  },
  {
   "cell_type": "code",
   "execution_count": 8,
   "id": "accepted-zimbabwe",
   "metadata": {},
   "outputs": [],
   "source": [
    "with open('ner_patterns.json') as f:\n",
    "    data = json.load(f)"
   ]
  },
  {
   "cell_type": "code",
   "execution_count": 9,
   "id": "inside-typing",
   "metadata": {},
   "outputs": [],
   "source": [
    "ruler = EntityRuler(nlp, overwrite_ents=True)\n",
    "patterns = data\n",
    "ruler.add_patterns(patterns)\n",
    "\n",
    "ruler.to_disk('Entity_ruler')\n",
    "\n",
    "@Language.component('ent_ruler')\n",
    "def ent_ruler(doc):\n",
    "    ruler(doc)\n",
    "    return doc\n",
    "\n",
    "if 'ent_ruler' in nlp.pipe_names:\n",
    "    nlp.remove_pipe('ent_ruler')\n",
    "    \n",
    "nlp.add_pipe('ent_ruler')\n",
    "nlp.to_disk('spacy_model')"
   ]
  },
  {
   "cell_type": "code",
   "execution_count": 10,
   "id": "absolute-charleston",
   "metadata": {},
   "outputs": [],
   "source": [
    "genres = pd.read_csv('imdb_with_wiki.csv')['genre']\n",
    "\n",
    "dataset = pd.unique(genres.dropna())\n",
    "temp = []\n",
    "    \n",
    "for i in range(len(dataset)):\n",
    "    temp += dataset[i].lower().split(\", \")\n",
    "\n",
    "genres = list(set(temp))\n",
    "genres.append('science fiction')"
   ]
  },
  {
   "cell_type": "code",
   "execution_count": 11,
   "id": "expanded-flesh",
   "metadata": {},
   "outputs": [],
   "source": [
    "matcher = Matcher(nlp.vocab)\n",
    "pattern = [\n",
    "    [{\"LEMMA\": {\"IN\": [\"write\", \"direct\", \"director\", \"writer\"]}} ],\n",
    "    ]\n",
    "\n",
    "matcher.add(\"matching\", pattern) "
   ]
  },
  {
   "cell_type": "code",
   "execution_count": 12,
   "id": "portuguese-questionnaire",
   "metadata": {},
   "outputs": [],
   "source": [
    "def get_edges(content):\n",
    "    content = content.replace('===', '==').replace('====', '==')\n",
    "    content = content.split('==')\n",
    "    \n",
    "    cast = []\n",
    "    genre = []\n",
    "    director = []\n",
    "    writer = []\n",
    "    plot = []\n",
    "    drt_wrt = []\n",
    "    producer = []\n",
    "    award = []\n",
    "    \n",
    "    dict1 = {}\n",
    "    for i in range(1,len(content),2):\n",
    "        try:\n",
    "            key = content[i][1:-1]\n",
    "            dict1[key.lower()] = content[i+1]\n",
    "        except:\n",
    "            None\n",
    "      \n",
    "    #Cast\n",
    "    try:\n",
    "        casting = dict1['cast'].split('\\n')\n",
    "        casting = [i for i in casting if i != '']\n",
    "        for i in casting:\n",
    "            cast.append((i.split(' as ')[0], 'cast')) \n",
    "    except:\n",
    "        None\n",
    "        \n",
    "    #Plot\n",
    "    try:\n",
    "        temp = dict1['plot'].replace('\\n', '')\n",
    "        plot.append((temp, 'plot'))\n",
    "    except:\n",
    "        None\n",
    "\n",
    "    #Production\n",
    "    try:\n",
    "        temp = dict1['production'].replace('\\n', '')\n",
    "        producer.append((temp, 'producer'))\n",
    "    except:\n",
    "        None\n",
    "\n",
    "    \n",
    "    for sent in  nlp(content[0]).sents:\n",
    "        doc = sent\n",
    "\n",
    "        matches = matcher(doc)\n",
    "        edges = []\n",
    "        ents = []\n",
    "\n",
    "        for i in range(len(matches)):\n",
    "            if doc[matches[i][1]:matches[i][2]].text.find('writ') != -1:\n",
    "                edges.append('writer')\n",
    "            else:\n",
    "                edges.append('director')\n",
    "\n",
    "        for ent in doc.ents:\n",
    "            if ent.label_ == 'GNR':\n",
    "                genre.append((ent.text, 'genre'))\n",
    "            if ent.label_ in ['WRT','DTR']:\n",
    "                ents.append(ent.text)\n",
    "                \n",
    "        for i in range(len(ents)):\n",
    "            try:\n",
    "                drt_wrt.append((ents[i], edges[i]))\n",
    "            except:\n",
    "                if len(edges) != 0:\n",
    "                    drt_wrt.append((ents[i], edges[-1]))\n",
    "                \n",
    "        if sent.text.find('award') != -1:\n",
    "            award.append((sent.text, 'award'))\n",
    "\n",
    "    KG_edges = cast + genre + drt_wrt + plot + producer + award\n",
    "    return KG_edges\n",
    "\n",
    "\n",
    "    "
   ]
  },
  {
   "cell_type": "code",
   "execution_count": 13,
   "id": "distinguished-russia",
   "metadata": {},
   "outputs": [],
   "source": [
    "def build_graph(directory, KG=nx.DiGraph()):\n",
    "    Graph = KG\n",
    "    index = 0\n",
    "    number_of_films = 0\n",
    "    flist = glob.glob(str(directory)+'\\*')\n",
    "    \n",
    "    \n",
    "    for ix in tqdm(range(len(flist))):\n",
    "        file = flist[ix]\n",
    "        with open(file, 'r') as f:\n",
    "            content = f.read()\n",
    "            \n",
    "        title = file[7:-4].lower()\n",
    "        edges = get_edges(content)\n",
    "        \n",
    "        if len(edges) == 0:\n",
    "            continue\n",
    "        number_of_films += 1\n",
    "        \n",
    "        for edge in edges:\n",
    "            if edge[1] in ['producer', 'plot', 'award']:\n",
    "                Graph.add_edge(title, index, relation=edge[1])\n",
    "                Graph.nodes.data()[index]['content'] = edge[0]\n",
    "                index += 1\n",
    "            else:\n",
    "                Graph.add_edge(title, edge[0], relation=edge[1])\n",
    "    \n",
    "    print('number of folders: ', len(flist))\n",
    "    print('number of movies in the graph: ',number_of_films)\n",
    "    return Graph"
   ]
  },
  {
   "cell_type": "code",
   "execution_count": 14,
   "id": "occupied-actor",
   "metadata": {},
   "outputs": [],
   "source": [
    "def build_on_graph(graph_url, files_url):\n",
    "    ex_Graph = nx.read_gexf(graph_url)\n",
    "    KG = build_graph(files_url, ex_Graph)\n",
    "    return KG\n",
    "\n",
    "def build_new_Graph(files_url):\n",
    "    KG = build_graph(files_url)\n",
    "    return KG"
   ]
  },
  {
   "cell_type": "code",
   "execution_count": 15,
   "id": "pharmaceutical-sheep",
   "metadata": {},
   "outputs": [
    {
     "data": {
      "application/vnd.jupyter.widget-view+json": {
       "model_id": "439b6972ade44ab1a53a9ac8c59a6531",
       "version_major": 2,
       "version_minor": 0
      },
      "text/plain": [
       "HBox(children=(FloatProgress(value=0.0, max=9695.0), HTML(value='')))"
      ]
     },
     "metadata": {},
     "output_type": "display_data"
    },
    {
     "name": "stdout",
     "output_type": "stream",
     "text": [
      "\n",
      "number of folders:  9695\n",
      "number of movies in the graph:  9378\n"
     ]
    }
   ],
   "source": [
    "KG = build_new_Graph('Movies')"
   ]
  },
  {
   "cell_type": "code",
   "execution_count": 16,
   "id": "dried-novel",
   "metadata": {},
   "outputs": [],
   "source": [
    "nx.write_edgelist(KG, \"Knowledge_Graph_EdgeList\")"
   ]
  },
  {
   "cell_type": "markdown",
   "id": "thousand-alabama",
   "metadata": {},
   "source": [
    "plt.figure(figsize=(12,12))\n",
    "\n",
    "pos = nx.spring_layout(KG)\n",
    "nx.draw(KG, with_labels=True, node_color='skyblue', edge_cmap=plt.cm.Blues, pos = pos)\n",
    "plt.show()"
   ]
  },
  {
   "cell_type": "code",
   "execution_count": null,
   "id": "dirty-christmas",
   "metadata": {},
   "outputs": [],
   "source": [
    "nx.write_gexf(KG, \"Knowledge_diGraph\")"
   ]
  },
  {
   "cell_type": "code",
   "execution_count": 67,
   "id": "intellectual-export",
   "metadata": {},
   "outputs": [],
   "source": [
    "nx.write_gpickle(KG,\"Knowledge_diGraph.gpickle\")"
   ]
  },
  {
   "cell_type": "code",
   "execution_count": 22,
   "id": "municipal-image",
   "metadata": {},
   "outputs": [],
   "source": [
    "diG = nx.read_gpickle(\"K1.gpickle\")"
   ]
  },
  {
   "cell_type": "code",
   "execution_count": 42,
   "id": "connected-selection",
   "metadata": {},
   "outputs": [],
   "source": [
    "diG = nx.DiGraph(diG.edges('2 fast 2 furious'))"
   ]
  },
  {
   "cell_type": "code",
   "execution_count": 45,
   "id": "excessive-bruce",
   "metadata": {},
   "outputs": [
    {
     "data": {
      "image/png": "[encoded data removed]",
      "text/plain": [
       "<Figure size 432x288 with 1 Axes>"
      ]
     },
     "metadata": {},
     "output_type": "display_data"
    }
   ],
   "source": [
    "nx.draw(diG)"
   ]
  },
  {
   "cell_type": "code",
   "execution_count": 66,
   "id": "heavy-jewelry",
   "metadata": {},
   "outputs": [
    {
     "name": "stdout",
     "output_type": "stream",
     "text": [
      "paul walker\n",
      "tyrese gibson\n",
      "eva mendes\n",
      "cole hauser\n",
      "chris \"ludacris\" bridges\n",
      "devon aoki\n",
      "james remar\n",
      "thom barry\n",
      "edward finlay\n",
      "mark boone junior\n",
      "mo gallini\n",
      "roberto sanchez\n",
      "mc jin\n",
      "amaury nolasco\n",
      "michael ealy\n",
      "john cenatiempo\n",
      "eric etebari\n",
      "action\n",
      "john singleton\n",
      "michael brandt\n",
      "derek haas\n",
      "gary scott thompson\n",
      "rob cohen\n",
      "41\n",
      "42\n",
      "43\n"
     ]
    }
   ],
   "source": [
    "for i in diG.successors('2 fast 2 furious'):\n",
    "    print(i)"
   ]
  },
  {
   "cell_type": "code",
   "execution_count": null,
   "id": "arctic-hollywood",
   "metadata": {},
   "outputs": [],
   "source": []
  }
 ],
 "metadata": {
  "kernelspec": {
   "display_name": "Python 3",
   "language": "python",
   "name": "python3"
  },
  "language_info": {
   "codemirror_mode": {
    "name": "ipython",
    "version": 3
   },
   "file_extension": ".py",
   "mimetype": "text/x-python",
   "name": "python",
   "nbconvert_exporter": "python",
   "pygments_lexer": "ipython3",
   "version": "3.7.9"
  }
 },
 "nbformat": 4,
 "nbformat_minor": 5
}
