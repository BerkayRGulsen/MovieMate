{
 "cells": [
  {
   "cell_type": "code",
   "execution_count": 2,
   "id": "linear-juvenile",
   "metadata": {},
   "outputs": [],
   "source": [
    "import numpy as np\n",
    "import matplotlib.pyplot as plt\n",
    "import random\n",
    "import json\n",
    "import pickle\n",
    "\n",
    "from sklearn.feature_extraction.text import TfidfVectorizer\n",
    "from sklearn.naive_bayes import MultinomialNB\n",
    "from sklearn.pipeline import make_pipeline\n",
    "from sklearn.metrics import classification_report\n",
    "from sklearn.model_selection import train_test_split\n",
    "from sklearn.preprocessing import OneHotEncoder,LabelEncoder\n",
    "\n",
    "from tensorflow.python.keras.models import Sequential\n",
    "from tensorflow.python.keras.models import load_model\n",
    "from tensorflow.python.keras.layers import Dense, Input, Dropout, LSTM, Activation, Bidirectional,Embedding\n",
    "from tensorflow.python.keras.preprocessing.text import Tokenizer\n",
    "from tensorflow.python.keras.preprocessing.sequence import pad_sequences"
   ]
  },
  {
   "cell_type": "code",
   "execution_count": 3,
   "id": "developing-worthy",
   "metadata": {},
   "outputs": [],
   "source": [
    "with open(\"intents.json\") as file:\n",
    "    pattern = json.load(file)\n",
    "\n",
    "responses = pattern['responses']\n",
    "patterns = np.array(pattern['intents'])\n",
    "patterns = patterns.T\n",
    "\n",
    "data = patterns[0]\n",
    "target = patterns[1]"
   ]
  },
  {
   "cell_type": "code",
   "execution_count": 4,
   "id": "cordless-albania",
   "metadata": {},
   "outputs": [],
   "source": [
    "train_txt,test_txt,train_label,test_labels = train_test_split(data,target,test_size = 0.3)\n",
    "val_txt, test_txt, val_label, test_labels = train_test_split(test_txt, test_labels, test_size=0.3, shuffle=True)"
   ]
  },
  {
   "cell_type": "code",
   "execution_count": 6,
   "id": "danish-single",
   "metadata": {},
   "outputs": [
    {
     "name": "stdout",
     "output_type": "stream",
     "text": [
      "(1499,)\n",
      "(450,)\n",
      "(193,)\n"
     ]
    }
   ],
   "source": [
    "print(train_txt.shape)\n",
    "print(val_txt.shape)\n",
    "print(test_txt.shape)"
   ]
  },
  {
   "cell_type": "code",
   "execution_count": 8,
   "id": "attached-merchant",
   "metadata": {},
   "outputs": [],
   "source": [
    "max_num_words = 40000\n",
    "\n",
    "classes = np.unique(target)\n",
    "\n",
    "tokenizer = Tokenizer(num_words=max_num_words)\n",
    "tokenizer.fit_on_texts(train_txt)\n",
    "word_index = tokenizer.word_index"
   ]
  },
  {
   "cell_type": "code",
   "execution_count": 9,
   "id": "timely-wrist",
   "metadata": {},
   "outputs": [
    {
     "name": "stdout",
     "output_type": "stream",
     "text": [
      "['thanks for your cooperation' 'can you tell me something funny'\n",
      " 'what am i allowed to ask you' ... 'i love dad jokes can you tell me one'\n",
      " 'what kind of movie' 'tell me a joke about cows']\n"
     ]
    }
   ],
   "source": [
    "ls=[]\n",
    "for c in train_txt:\n",
    "    ls.append(len(c.split()))\n",
    "maxLen=int(np.percentile(ls, 98))\n",
    "print(train_txt)\n",
    "train_sequences = tokenizer.texts_to_sequences(train_txt)\n",
    "train_sequences = pad_sequences(train_sequences, maxlen=maxLen, padding='post')\n",
    "val_sequences = tokenizer.texts_to_sequences(val_txt)\n",
    "val_sequences = pad_sequences(val_sequences, maxlen=maxLen, padding='post')\n",
    "test_sequences = tokenizer.texts_to_sequences(test_txt)\n",
    "test_sequences = pad_sequences(test_sequences, maxlen=maxLen, padding='post')"
   ]
  },
  {
   "cell_type": "code",
   "execution_count": 10,
   "id": "behind-partner",
   "metadata": {},
   "outputs": [],
   "source": [
    "label_encoder = LabelEncoder()\n",
    "\n",
    "integer_encoded = label_encoder.fit_transform(classes)\n",
    "\n",
    "onehot_encoder = OneHotEncoder(sparse=False)\n",
    "integer_encoded = integer_encoded.reshape(len(integer_encoded), 1)\n",
    "onehot_encoder.fit(integer_encoded)\n",
    "\n",
    "train_label_encoded = label_encoder.transform(train_label)\n",
    "train_label_encoded = train_label_encoded.reshape(len(train_label_encoded), 1)\n",
    "train_label = onehot_encoder.transform(train_label_encoded)\n",
    "val_label_encoded = label_encoder.transform(val_label)\n",
    "val_label_encoded = val_label_encoded.reshape(len(val_label_encoded), 1)\n",
    "val_label = onehot_encoder.transform(val_label_encoded)\n",
    "test_labels_encoded = label_encoder.transform(test_labels)\n",
    "test_labels_encoded = test_labels_encoded.reshape(len(test_labels_encoded), 1)\n",
    "test_labels = onehot_encoder.transform(test_labels_encoded)"
   ]
  },
  {
   "cell_type": "code",
   "execution_count": 11,
   "id": "destroyed-processing",
   "metadata": {},
   "outputs": [],
   "source": [
    "embeddings_index={}\n",
    "with open('glove.6B.100d.txt', encoding='utf8') as f:\n",
    "    for line in f:\n",
    "        values = line.split()\n",
    "        word = values[0]\n",
    "        coefs = np.asarray(values[1:], dtype='float32')\n",
    "        embeddings_index[word] = coefs"
   ]
  },
  {
   "cell_type": "code",
   "execution_count": 12,
   "id": "stupid-bruce",
   "metadata": {},
   "outputs": [
    {
     "name": "stderr",
     "output_type": "stream",
     "text": [
      "c:\\users\\berka\\appdata\\local\\programs\\python\\python37\\lib\\site-packages\\IPython\\core\\interactiveshell.py:3357: FutureWarning: arrays to stack must be passed as a \"sequence\" type such as list or tuple. Support for non-sequence iterables such as generators is deprecated as of NumPy 1.16 and will raise an error in the future.\n",
      "  if (await self.run_code(code, result,  async_=asy)):\n"
     ]
    }
   ],
   "source": [
    "all_embs = np.stack(embeddings_index.values())\n",
    "emb_mean,emb_std = all_embs.mean(), all_embs.std()\n",
    "num_words = min(max_num_words, len(word_index))+1\n",
    "embedding_dim=len(embeddings_index['the'])\n",
    "embedding_matrix = np.random.normal(emb_mean, emb_std, (num_words, embedding_dim))\n",
    "for word, i in word_index.items():\n",
    "    if i >= max_num_words:\n",
    "        break\n",
    "    embedding_vector = embeddings_index.get(word)\n",
    "    if embedding_vector is not None:\n",
    "        embedding_matrix[i] = embedding_vector"
   ]
  },
  {
   "cell_type": "code",
   "execution_count": 13,
   "id": "extended-handle",
   "metadata": {},
   "outputs": [],
   "source": [
    "model = Sequential()\n",
    "\n",
    "model.add(Embedding(num_words, 100, trainable=False,input_length=train_sequences.shape[1], weights=[embedding_matrix]))\n",
    "model.add(Bidirectional(LSTM(256, return_sequences=True, recurrent_dropout=0.1, dropout=0.1), 'concat'))\n",
    "model.add(Dropout(0.25))\n",
    "model.add(LSTM(512, return_sequences=False, recurrent_dropout=0.1, dropout=0.1))\n",
    "model.add(Dropout(0.25))\n",
    "model.add(Dense(256, activation='relu'))\n",
    "model.add(Dense(128, activation='relu'))\n",
    "model.add(Dropout(0.2))\n",
    "model.add(Dense(classes.shape[0], activation='softmax'))\n"
   ]
  },
  {
   "cell_type": "code",
   "execution_count": 15,
   "id": "tight-steps",
   "metadata": {},
   "outputs": [
    {
     "name": "stdout",
     "output_type": "stream",
     "text": [
      "Model: \"sequential\"\n",
      "_________________________________________________________________\n",
      "Layer (type)                 Output Shape              Param #   \n",
      "=================================================================\n",
      "embedding (Embedding)        (None, 11, 100)           73600     \n",
      "_________________________________________________________________\n",
      "bidirectional (Bidirectional (None, 11, 512)           731136    \n",
      "_________________________________________________________________\n",
      "dropout (Dropout)            (None, 11, 512)           0         \n",
      "_________________________________________________________________\n",
      "lstm_1 (LSTM)                (None, 512)               2099200   \n",
      "_________________________________________________________________\n",
      "dropout_1 (Dropout)          (None, 512)               0         \n",
      "_________________________________________________________________\n",
      "dense (Dense)                (None, 256)               131328    \n",
      "_________________________________________________________________\n",
      "dense_1 (Dense)              (None, 128)               32896     \n",
      "_________________________________________________________________\n",
      "dropout_2 (Dropout)          (None, 128)               0         \n",
      "_________________________________________________________________\n",
      "dense_2 (Dense)              (None, 19)                2451      \n",
      "=================================================================\n",
      "Total params: 3,070,611\n",
      "Trainable params: 2,997,011\n",
      "Non-trainable params: 73,600\n",
      "_________________________________________________________________\n"
     ]
    }
   ],
   "source": [
    "model.summary()"
   ]
  },
  {
   "cell_type": "code",
   "execution_count": 10,
   "id": "listed-street",
   "metadata": {},
   "outputs": [
    {
     "name": "stdout",
     "output_type": "stream",
     "text": [
      "Epoch 1/15\n",
      "24/24 [==============================] - 27s 759ms/step - loss: 2.8034 - accuracy: 0.1219 - val_loss: 2.4277 - val_accuracy: 0.2378\n",
      "Epoch 2/15\n",
      "24/24 [==============================] - 17s 688ms/step - loss: 2.2815 - accuracy: 0.2576 - val_loss: 1.6158 - val_accuracy: 0.4200\n",
      "Epoch 3/15\n",
      "24/24 [==============================] - 17s 713ms/step - loss: 1.6463 - accuracy: 0.4042 - val_loss: 1.1491 - val_accuracy: 0.5711\n",
      "Epoch 4/15\n",
      "24/24 [==============================] - 20s 862ms/step - loss: 1.1837 - accuracy: 0.5580 - val_loss: 1.0678 - val_accuracy: 0.6111\n",
      "Epoch 5/15\n",
      "24/24 [==============================] - 19s 784ms/step - loss: 1.0976 - accuracy: 0.6121 - val_loss: 0.8525 - val_accuracy: 0.6822\n",
      "Epoch 6/15\n",
      "24/24 [==============================] - 20s 831ms/step - loss: 0.9236 - accuracy: 0.6679 - val_loss: 0.7741 - val_accuracy: 0.7444\n",
      "Epoch 7/15\n",
      "24/24 [==============================] - 22s 921ms/step - loss: 0.7245 - accuracy: 0.7627 - val_loss: 0.6845 - val_accuracy: 0.7756\n",
      "Epoch 8/15\n",
      "24/24 [==============================] - 20s 854ms/step - loss: 0.6183 - accuracy: 0.7793 - val_loss: 0.5689 - val_accuracy: 0.8200\n",
      "Epoch 9/15\n",
      "24/24 [==============================] - 20s 815ms/step - loss: 0.5100 - accuracy: 0.8295 - val_loss: 0.6898 - val_accuracy: 0.7978\n",
      "Epoch 10/15\n",
      "24/24 [==============================] - 20s 814ms/step - loss: 0.4478 - accuracy: 0.8510 - val_loss: 0.6273 - val_accuracy: 0.7956\n",
      "Epoch 11/15\n",
      "24/24 [==============================] - 18s 765ms/step - loss: 0.4324 - accuracy: 0.8641 - val_loss: 0.5422 - val_accuracy: 0.8378\n",
      "Epoch 12/15\n",
      "24/24 [==============================] - 19s 807ms/step - loss: 0.3712 - accuracy: 0.8837 - val_loss: 0.5619 - val_accuracy: 0.8556\n",
      "Epoch 13/15\n",
      "24/24 [==============================] - 19s 774ms/step - loss: 0.3627 - accuracy: 0.8775 - val_loss: 0.5142 - val_accuracy: 0.8644\n",
      "Epoch 14/15\n",
      "24/24 [==============================] - 19s 798ms/step - loss: 0.2783 - accuracy: 0.9018 - val_loss: 0.5201 - val_accuracy: 0.8556\n",
      "Epoch 15/15\n",
      "24/24 [==============================] - 19s 789ms/step - loss: 0.2806 - accuracy: 0.9085 - val_loss: 0.7402 - val_accuracy: 0.8178\n"
     ]
    }
   ],
   "source": [
    "model.compile(loss='categorical_crossentropy', optimizer='adam', metrics=['accuracy'])\n",
    "history = model.fit(train_sequences, train_label, epochs = 15,\n",
    "          batch_size = 64, shuffle=True,\n",
    "          validation_data=(val_sequences, val_label))"
   ]
  },
  {
   "cell_type": "code",
   "execution_count": 11,
   "id": "welcome-postcard",
   "metadata": {},
   "outputs": [
    {
     "data": {
      "image/png": "[encoded data removed]",
      "text/plain": [
       "<Figure size 432x288 with 1 Axes>"
      ]
     },
     "metadata": {
      "needs_background": "light"
     },
     "output_type": "display_data"
    }
   ],
   "source": [
    "plt.plot(history.history['accuracy'])\n",
    "plt.plot(history.history['val_accuracy'])\n",
    "plt.title('Model Accuracy')\n",
    "plt.ylabel('Accuracy')\n",
    "plt.xlabel('Epoch')\n",
    "plt.legend(['Train', 'Validation'], loc='upper left')\n",
    "plt.show()"
   ]
  },
  {
   "cell_type": "code",
   "execution_count": 12,
   "id": "political-premium",
   "metadata": {},
   "outputs": [
    {
     "data": {
      "image/png": "[encoded data removed]",
      "text/plain": [
       "<Figure size 432x288 with 1 Axes>"
      ]
     },
     "metadata": {
      "needs_background": "light"
     },
     "output_type": "display_data"
    }
   ],
   "source": [
    "plt.plot(history.history['loss'])\n",
    "plt.plot(history.history['val_loss'])\n",
    "plt.title('Model Loss')\n",
    "plt.ylabel('Loss')\n",
    "plt.xlabel('Epoch')\n",
    "plt.legend(['Train', 'Validation'], loc='upper left')\n",
    "plt.show()"
   ]
  },
  {
   "cell_type": "code",
   "execution_count": 13,
   "id": "cordless-harris",
   "metadata": {},
   "outputs": [],
   "source": [
    "model.save('intent_model/intents.h5')\n",
    "\n",
    "with open('intent_model/classes.pkl','wb') as file:\n",
    "    pickle.dump(classes,file)\n",
    "\n",
    "with open('intent_model/tokenizer.pkl','wb') as file:\n",
    "    pickle.dump(tokenizer,file)\n",
    "\n",
    "with open('intent_model/label_encoder.pkl','wb') as file:\n",
    "    pickle.dump(label_encoder,file)"
   ]
  },
  {
   "cell_type": "markdown",
   "id": "finished-killing",
   "metadata": {},
   "source": [
    "model = load_model('intent_model/intents.h5')\n",
    "\n",
    "with open('intent_model/classes.pkl','rb') as file:\n",
    "    classes = pickle.load(file)\n",
    "\n",
    "with open('intent_model/tokenizer.pkl','rb') as file:\n",
    "    tokenizer = pickle.load(file)\n",
    "\n",
    "with open('intent_model/label_encoder.pkl','rb') as file:\n",
    "    label_encoder = pickle.load(file)"
   ]
  },
  {
   "cell_type": "code",
   "execution_count": null,
   "id": "flying-andorra",
   "metadata": {},
   "outputs": [],
   "source": []
  }
 ],
 "metadata": {
  "kernelspec": {
   "display_name": "Python 3",
   "language": "python",
   "name": "python3"
  },
  "language_info": {
   "codemirror_mode": {
    "name": "ipython",
    "version": 3
   },
   "file_extension": ".py",
   "mimetype": "text/x-python",
   "name": "python",
   "nbconvert_exporter": "python",
   "pygments_lexer": "ipython3",
   "version": "3.7.9"
  }
 },
 "nbformat": 4,
 "nbformat_minor": 5
}
